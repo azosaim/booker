{
 "cells": [
  {
   "cell_type": "code",
   "execution_count": 1,
   "metadata": {},
   "outputs": [],
   "source": [
    "import requests\n",
    "from bs4 import BeautifulSoup  \n",
    "import pandas as pd\n",
    "import matplotlib.pyplot as plt\n",
    "import seaborn as sns\n",
    "\n",
    "%matplotlib inline"
   ]
  },
  {
   "cell_type": "code",
   "execution_count": 2,
   "metadata": {},
   "outputs": [],
   "source": [
    "api_keys = pd.read_csv('api_keys.csv')\n",
    "#api_keys.csv and .ipynb_checkpoints should to in the gitignore"
   ]
  },
  {
   "cell_type": "code",
   "execution_count": null,
   "metadata": {},
   "outputs": [],
   "source": [
    "#pd.DataFrame({'endpoint': 'yelp', 'key' : api_key}, index = [0]).to_csv('api_keys.csv', index = False)\n"
   ]
  },
  {
   "cell_type": "code",
   "execution_count": 3,
   "metadata": {},
   "outputs": [],
   "source": [
    "yelp_api = api_keys.loc[api_keys['endpoint'] == 'yelp', 'key'].values[0]"
   ]
  },
  {
   "cell_type": "code",
   "execution_count": 4,
   "metadata": {},
   "outputs": [],
   "source": [
    "business_endpoint = 'https://api.yelp.com/v3/businesses/search'"
   ]
  },
  {
   "cell_type": "code",
   "execution_count": 5,
   "metadata": {},
   "outputs": [],
   "source": [
    "header_category = {'Authorization': 'bearer %s' % yelp_api}"
   ]
  },
  {
   "cell_type": "code",
   "execution_count": null,
   "metadata": {},
   "outputs": [],
   "source": [
    "params_offset = 50"
   ]
  },
  {
   "cell_type": "code",
   "execution_count": null,
   "metadata": {},
   "outputs": [],
   "source": [
    "params_category_music = {'location': 'Nashville', 'limit': 50, 'categories': 'musicvenues', 'offset': params_offset}\n"
   ]
  },
  {
   "cell_type": "code",
   "execution_count": null,
   "metadata": {},
   "outputs": [],
   "source": [
    "response_business_music = requests.get(url = business_endpoint, params = params_category_music, headers = header_category)\n"
   ]
  },
  {
   "cell_type": "code",
   "execution_count": null,
   "metadata": {},
   "outputs": [],
   "source": [
    "for b in response_business_music.json()['businesses'] :\n",
    "    print(b['name'])"
   ]
  },
  {
   "cell_type": "code",
   "execution_count": null,
   "metadata": {},
   "outputs": [],
   "source": [
    "def extract_music_info(music):\n",
    "    categories =  [a['title'] for a in music['categories']]\n",
    "    ratings = music['rating']\n",
    "    name = music['name']\n",
    "    address = music['location']['display_address']\n",
    "    phone_number = music['phone']\n",
    "    latitude = music['coordinates']['latitude']\n",
    "    longitude = music['coordinates']['longitude']\n",
    "    try:\n",
    "        price = music['price']\n",
    "    except:\n",
    "        price = 'no price'\n",
    "    zip_code = music['location']['zip_code']\n",
    "    is_closed = music['is_closed']\n",
    "    output_dict_music = { \n",
    "                   'categories': categories,   \n",
    "                   'ratings': ratings,\n",
    "                   'name': name,\n",
    "                   'display_address': address,\n",
    "                   'phone': phone_number,\n",
    "                   'latitude': latitude, \n",
    "                   'longitude': longitude, \n",
    "                   'price': price, \n",
    "                   'zip_code': zip_code,\n",
    "                   'is_closed': is_closed}\n",
    "\n",
    "    return output_dict_music"
   ]
  },
  {
   "cell_type": "code",
   "execution_count": null,
   "metadata": {},
   "outputs": [],
   "source": [
    "music_list = []\n",
    "for increment in range(0, 200, 50) : \n",
    "    print(increment)\n",
    "    params_category_music = {'location': 'Nashville', 'limit': 50, 'categories': 'musicvenues', 'offset': increment}\n",
    "\n",
    "    response_business_music = requests.get(url = business_endpoint, params = params_category_music, headers = header_category)\n",
    "    print(len(response_business_music.json()['businesses']))\n",
    "    for music_data in response_business_music.json()['businesses']:\n",
    "        music_dict = extract_music_info(music_data)\n",
    "        music_list.append(music_dict)\n",
    "        params_offset += 50"
   ]
  },
  {
   "cell_type": "code",
   "execution_count": null,
   "metadata": {},
   "outputs": [],
   "source": [
    "music_venues_nash.shape"
   ]
  },
  {
   "cell_type": "code",
   "execution_count": null,
   "metadata": {},
   "outputs": [],
   "source": [
    "music_venues_nash = pd.DataFrame(music_list)\n",
    "music_venues_nash#['name'].nunique()"
   ]
  },
  {
   "cell_type": "code",
   "execution_count": null,
   "metadata": {},
   "outputs": [],
   "source": [
    "music_venues_nash.to_csv(r'C:\\Users\\mia\\Desktop\\nss\\projects\\capstone\\data\\updated_nash_venues.csv', index = False)"
   ]
  },
  {
   "cell_type": "markdown",
   "metadata": {},
   "source": [
    "## Begin Scraping for Bars"
   ]
  },
  {
   "cell_type": "code",
   "execution_count": 8,
   "metadata": {},
   "outputs": [],
   "source": [
    "params_offset = 50\n",
    "#params_category_bars = {'location': 'Nashville', 'limit': 50, 'categories': 'bars', 'offset': params_offset}\n",
    "#response_business_bars = requests.get(url = business_endpoint, params = params_category_bars, headers = header_category)\n"
   ]
  },
  {
   "cell_type": "code",
   "execution_count": null,
   "metadata": {},
   "outputs": [],
   "source": [
    "for b in response_business_bars.json()['businesses'] :\n",
    "    print(b['name'])\n",
    "    "
   ]
  },
  {
   "cell_type": "code",
   "execution_count": 9,
   "metadata": {},
   "outputs": [],
   "source": [
    "def extract_bar_info(bar):\n",
    "    categories =  [a['title'] for a in bar['categories']]\n",
    "    ratings = bar['rating']\n",
    "    name = bar['name']\n",
    "    address = bar['location']['display_address']\n",
    "    phone_number = bar['phone']\n",
    "    latitude = bar['coordinates']['latitude']\n",
    "    longitude = bar['coordinates']['longitude']\n",
    "    try:\n",
    "        price = bar['price']\n",
    "    except:\n",
    "        price = 'no price'\n",
    "    zip_code = bar['location']['zip_code']\n",
    "    is_closed = bar['is_closed']\n",
    "    output_dict_bar = { \n",
    "                   'categories': categories,   \n",
    "                   'ratings': ratings,\n",
    "                   'name': name,\n",
    "                   'display_address': address,\n",
    "                   'phone': phone_number,\n",
    "                   'latitude': latitude, \n",
    "                   'longitude': longitude, \n",
    "                   'price': price, \n",
    "                   'zip_code': zip_code,\n",
    "                   'is_closed': is_closed}\n",
    "\n",
    "    return output_dict_bar"
   ]
  },
  {
   "cell_type": "code",
   "execution_count": 21,
   "metadata": {},
   "outputs": [
    {
     "name": "stdout",
     "output_type": "stream",
     "text": [
      "<Response [200]>\n",
      "<Response [200]>\n",
      "<Response [200]>\n",
      "<Response [200]>\n",
      "<Response [200]>\n",
      "<Response [200]>\n",
      "<Response [200]>\n",
      "<Response [200]>\n",
      "<Response [200]>\n",
      "<Response [200]>\n",
      "<Response [200]>\n",
      "<Response [200]>\n",
      "<Response [200]>\n",
      "<Response [200]>\n",
      "<Response [200]>\n",
      "<Response [200]>\n",
      "<Response [200]>\n",
      "<Response [200]>\n",
      "<Response [200]>\n",
      "<Response [200]>\n"
     ]
    }
   ],
   "source": [
    "bar_list = []\n",
    "for increment in range(0, 1000, 50) : \n",
    "    #print(increment)\n",
    "    params_category_bars = {'location': 'Nashville', 'limit': 50, 'categories': 'bars', 'offset': increment}\n",
    "\n",
    "    response_business_bars = requests.get(url = business_endpoint, params = params_category_bars, headers = header_category)\n",
    "    print(response_business_bars)\n",
    "    for bar in response_business_bars.json()['businesses']:\n",
    "        bar_dict = extract_bar_info(bar)\n",
    "        bar_list.append(bar_dict)\n",
    "        params_offset += 50\n",
    "        \n",
    "    #['businesses'] is causing an error "
   ]
  },
  {
   "cell_type": "code",
   "execution_count": 22,
   "metadata": {},
   "outputs": [
    {
     "data": {
      "text/html": [
       "<div>\n",
       "<style scoped>\n",
       "    .dataframe tbody tr th:only-of-type {\n",
       "        vertical-align: middle;\n",
       "    }\n",
       "\n",
       "    .dataframe tbody tr th {\n",
       "        vertical-align: top;\n",
       "    }\n",
       "\n",
       "    .dataframe thead th {\n",
       "        text-align: right;\n",
       "    }\n",
       "</style>\n",
       "<table border=\"1\" class=\"dataframe\">\n",
       "  <thead>\n",
       "    <tr style=\"text-align: right;\">\n",
       "      <th></th>\n",
       "      <th>categories</th>\n",
       "      <th>ratings</th>\n",
       "      <th>name</th>\n",
       "      <th>display_address</th>\n",
       "      <th>phone</th>\n",
       "      <th>latitude</th>\n",
       "      <th>longitude</th>\n",
       "      <th>price</th>\n",
       "      <th>zip_code</th>\n",
       "      <th>is_closed</th>\n",
       "    </tr>\n",
       "  </thead>\n",
       "  <tbody>\n",
       "    <tr>\n",
       "      <th>0</th>\n",
       "      <td>[American (New), Bars]</td>\n",
       "      <td>4.5</td>\n",
       "      <td>The Stillery</td>\n",
       "      <td>[113 2nd Ave N, Nashville, TN 37201]</td>\n",
       "      <td>+16159428080</td>\n",
       "      <td>36.162250</td>\n",
       "      <td>-86.775700</td>\n",
       "      <td>$$</td>\n",
       "      <td>37201</td>\n",
       "      <td>False</td>\n",
       "    </tr>\n",
       "    <tr>\n",
       "      <th>1</th>\n",
       "      <td>[Italian, Pizza, Bars]</td>\n",
       "      <td>4.5</td>\n",
       "      <td>Five Points Pizza</td>\n",
       "      <td>[1012 Woodland St, Nashville, TN 37206]</td>\n",
       "      <td>+16159154174</td>\n",
       "      <td>36.177100</td>\n",
       "      <td>-86.750470</td>\n",
       "      <td>$$</td>\n",
       "      <td>37206</td>\n",
       "      <td>False</td>\n",
       "    </tr>\n",
       "    <tr>\n",
       "      <th>2</th>\n",
       "      <td>[Bars, American (Traditional)]</td>\n",
       "      <td>4.0</td>\n",
       "      <td>The Pharmacy</td>\n",
       "      <td>[731 McFerrin Ave, Nashville, TN 37206]</td>\n",
       "      <td>+16157129517</td>\n",
       "      <td>36.185009</td>\n",
       "      <td>-86.754127</td>\n",
       "      <td>$$</td>\n",
       "      <td>37206</td>\n",
       "      <td>False</td>\n",
       "    </tr>\n",
       "    <tr>\n",
       "      <th>3</th>\n",
       "      <td>[Mexican, Bars]</td>\n",
       "      <td>4.5</td>\n",
       "      <td>Bartaco</td>\n",
       "      <td>[2526 12th Ave S, Nashville, TN 37204]</td>\n",
       "      <td>+16152698226</td>\n",
       "      <td>36.123742</td>\n",
       "      <td>-86.789594</td>\n",
       "      <td>$$</td>\n",
       "      <td>37204</td>\n",
       "      <td>False</td>\n",
       "    </tr>\n",
       "    <tr>\n",
       "      <th>4</th>\n",
       "      <td>[Tacos, Bars]</td>\n",
       "      <td>4.5</td>\n",
       "      <td>Bakersfield</td>\n",
       "      <td>[201 3rd Ave S, Nashville, TN 37201]</td>\n",
       "      <td>+16155220970</td>\n",
       "      <td>36.159296</td>\n",
       "      <td>-86.774733</td>\n",
       "      <td>$$</td>\n",
       "      <td>37201</td>\n",
       "      <td>False</td>\n",
       "    </tr>\n",
       "    <tr>\n",
       "      <th>...</th>\n",
       "      <td>...</td>\n",
       "      <td>...</td>\n",
       "      <td>...</td>\n",
       "      <td>...</td>\n",
       "      <td>...</td>\n",
       "      <td>...</td>\n",
       "      <td>...</td>\n",
       "      <td>...</td>\n",
       "      <td>...</td>\n",
       "      <td>...</td>\n",
       "    </tr>\n",
       "    <tr>\n",
       "      <th>439</th>\n",
       "      <td>[Hookah Bars, Lounges]</td>\n",
       "      <td>1.0</td>\n",
       "      <td>Lavo Lounge</td>\n",
       "      <td>[1310 Antioch Pike, Ste K, Nashville, TN 37211]</td>\n",
       "      <td>+16157077286</td>\n",
       "      <td>36.085610</td>\n",
       "      <td>-86.689900</td>\n",
       "      <td>no price</td>\n",
       "      <td>37211</td>\n",
       "      <td>False</td>\n",
       "    </tr>\n",
       "    <tr>\n",
       "      <th>440</th>\n",
       "      <td>[Bars, Dance Clubs]</td>\n",
       "      <td>3.0</td>\n",
       "      <td>Music City Gents Male Revue</td>\n",
       "      <td>[312 Broadway St, Nashville, TN 37201]</td>\n",
       "      <td>+16153352455</td>\n",
       "      <td>36.161480</td>\n",
       "      <td>-86.776792</td>\n",
       "      <td>no price</td>\n",
       "      <td>37201</td>\n",
       "      <td>False</td>\n",
       "    </tr>\n",
       "    <tr>\n",
       "      <th>441</th>\n",
       "      <td>[Sports Bars]</td>\n",
       "      <td>1.0</td>\n",
       "      <td>Lakeside Lounge</td>\n",
       "      <td>[921 Woodland St, Nashville, TN 37206]</td>\n",
       "      <td>+18335253733</td>\n",
       "      <td>36.175890</td>\n",
       "      <td>-86.755385</td>\n",
       "      <td>no price</td>\n",
       "      <td>37206</td>\n",
       "      <td>False</td>\n",
       "    </tr>\n",
       "    <tr>\n",
       "      <th>442</th>\n",
       "      <td>[Hookah Bars, American (Traditional)]</td>\n",
       "      <td>1.0</td>\n",
       "      <td>Sultan's Cafe</td>\n",
       "      <td>[1602 21st Ave S, Nashville, TN 37212]</td>\n",
       "      <td>+16153218980</td>\n",
       "      <td>36.138207</td>\n",
       "      <td>-86.800519</td>\n",
       "      <td>$$</td>\n",
       "      <td>37212</td>\n",
       "      <td>False</td>\n",
       "    </tr>\n",
       "    <tr>\n",
       "      <th>443</th>\n",
       "      <td>[Bars]</td>\n",
       "      <td>2.0</td>\n",
       "      <td>Ringside Pub</td>\n",
       "      <td>[2900 Hillhurst Dr, Nashville, TN 37207]</td>\n",
       "      <td>+16152274223</td>\n",
       "      <td>36.226200</td>\n",
       "      <td>-86.760730</td>\n",
       "      <td>no price</td>\n",
       "      <td>37207</td>\n",
       "      <td>False</td>\n",
       "    </tr>\n",
       "  </tbody>\n",
       "</table>\n",
       "<p>444 rows × 10 columns</p>\n",
       "</div>"
      ],
      "text/plain": [
       "                                categories  ratings  \\\n",
       "0                   [American (New), Bars]      4.5   \n",
       "1                   [Italian, Pizza, Bars]      4.5   \n",
       "2           [Bars, American (Traditional)]      4.0   \n",
       "3                          [Mexican, Bars]      4.5   \n",
       "4                            [Tacos, Bars]      4.5   \n",
       "..                                     ...      ...   \n",
       "439                 [Hookah Bars, Lounges]      1.0   \n",
       "440                    [Bars, Dance Clubs]      3.0   \n",
       "441                          [Sports Bars]      1.0   \n",
       "442  [Hookah Bars, American (Traditional)]      1.0   \n",
       "443                                 [Bars]      2.0   \n",
       "\n",
       "                            name  \\\n",
       "0                   The Stillery   \n",
       "1              Five Points Pizza   \n",
       "2                   The Pharmacy   \n",
       "3                        Bartaco   \n",
       "4                    Bakersfield   \n",
       "..                           ...   \n",
       "439                  Lavo Lounge   \n",
       "440  Music City Gents Male Revue   \n",
       "441              Lakeside Lounge   \n",
       "442                Sultan's Cafe   \n",
       "443                 Ringside Pub   \n",
       "\n",
       "                                     display_address         phone   latitude  \\\n",
       "0               [113 2nd Ave N, Nashville, TN 37201]  +16159428080  36.162250   \n",
       "1            [1012 Woodland St, Nashville, TN 37206]  +16159154174  36.177100   \n",
       "2            [731 McFerrin Ave, Nashville, TN 37206]  +16157129517  36.185009   \n",
       "3             [2526 12th Ave S, Nashville, TN 37204]  +16152698226  36.123742   \n",
       "4               [201 3rd Ave S, Nashville, TN 37201]  +16155220970  36.159296   \n",
       "..                                               ...           ...        ...   \n",
       "439  [1310 Antioch Pike, Ste K, Nashville, TN 37211]  +16157077286  36.085610   \n",
       "440           [312 Broadway St, Nashville, TN 37201]  +16153352455  36.161480   \n",
       "441           [921 Woodland St, Nashville, TN 37206]  +18335253733  36.175890   \n",
       "442           [1602 21st Ave S, Nashville, TN 37212]  +16153218980  36.138207   \n",
       "443         [2900 Hillhurst Dr, Nashville, TN 37207]  +16152274223  36.226200   \n",
       "\n",
       "     longitude     price zip_code  is_closed  \n",
       "0   -86.775700        $$    37201      False  \n",
       "1   -86.750470        $$    37206      False  \n",
       "2   -86.754127        $$    37206      False  \n",
       "3   -86.789594        $$    37204      False  \n",
       "4   -86.774733        $$    37201      False  \n",
       "..         ...       ...      ...        ...  \n",
       "439 -86.689900  no price    37211      False  \n",
       "440 -86.776792  no price    37201      False  \n",
       "441 -86.755385  no price    37206      False  \n",
       "442 -86.800519        $$    37212      False  \n",
       "443 -86.760730  no price    37207      False  \n",
       "\n",
       "[444 rows x 10 columns]"
      ]
     },
     "execution_count": 22,
     "metadata": {},
     "output_type": "execute_result"
    }
   ],
   "source": [
    "bars_nash = pd.DataFrame(bar_list)\n",
    "bars_nash#['name'].nunique()"
   ]
  },
  {
   "cell_type": "code",
   "execution_count": 23,
   "metadata": {},
   "outputs": [],
   "source": [
    "bars_nash.to_csv(r'C:\\Users\\mia\\Desktop\\nss\\projects\\capstone\\data\\bars_nash.csv', index = False)"
   ]
  },
  {
   "cell_type": "code",
   "execution_count": null,
   "metadata": {},
   "outputs": [],
   "source": []
  }
 ],
 "metadata": {
  "kernelspec": {
   "display_name": "Python 3",
   "language": "python",
   "name": "python3"
  },
  "language_info": {
   "codemirror_mode": {
    "name": "ipython",
    "version": 3
   },
   "file_extension": ".py",
   "mimetype": "text/x-python",
   "name": "python",
   "nbconvert_exporter": "python",
   "pygments_lexer": "ipython3",
   "version": "3.8.3"
  }
 },
 "nbformat": 4,
 "nbformat_minor": 4
}
